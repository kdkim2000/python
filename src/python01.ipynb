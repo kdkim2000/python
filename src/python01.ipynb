{
 "cells": [
  {
   "cell_type": "markdown",
   "metadata": {},
   "source": [
    "# 변수를 사용한 연산"
   ]
  },
  {
   "cell_type": "code",
   "execution_count": 4,
   "metadata": {},
   "outputs": [
    {
     "name": "stdout",
     "output_type": "stream",
     "text": [
      "합: 8\n",
      "차이: 2\n"
     ]
    }
   ],
   "source": [
    "x = 5\n",
    "y = 3\n",
    "\n",
    "# 변수를 사용하여 연산 수행\n",
    "sum = x + y\n",
    "difference = x - y\n",
    "\n",
    "print(\"합:\", sum)        # 출력: 합: 8\n",
    "print(\"차이:\", difference)  # 출력: 차이: 2\n"
   ]
  },
  {
   "cell_type": "code",
   "execution_count": 5,
   "metadata": {},
   "outputs": [
    {
     "name": "stdout",
     "output_type": "stream",
     "text": [
      "이름: Alice\n",
      "이름: Bob\n"
     ]
    }
   ],
   "source": [
    "name = \"Alice\"\n",
    "print(\"이름:\", name)  # 출력: 이름: Alice\n",
    "\n",
    "name = \"Bob\"\n",
    "print(\"이름:\", name)  # 출력: 이름: Bob"
   ]
  },
  {
   "cell_type": "markdown",
   "metadata": {},
   "source": [
    "# 산술 연산자"
   ]
  },
  {
   "cell_type": "code",
   "execution_count": 8,
   "metadata": {},
   "outputs": [
    {
     "name": "stdout",
     "output_type": "stream",
     "text": [
      "덧셈: 13\n",
      "뺄셈: 7\n",
      "곱셈: 30\n",
      "나눗셈: 3.3333333333333335\n",
      "정수 나눗셈: 3\n",
      "나머지: 1\n",
      "지수: 1000\n"
     ]
    }
   ],
   "source": [
    "# 산술 연산자 예제\n",
    "x = 10\n",
    "y = 3\n",
    "\n",
    "addition = x + y\n",
    "subtraction = x - y\n",
    "multiplication = x * y\n",
    "division = x / y\n",
    "integer_division = x // y\n",
    "remainder = x % y\n",
    "\n",
    "print(\"덧셈:\", addition)\n",
    "print(\"뺄셈:\", subtraction)\n",
    "print(\"곱셈:\", multiplication)\n",
    "print(\"나눗셈:\", division)\n",
    "print(\"정수 나눗셈:\", integer_division)\n",
    "print(\"나머지:\", remainder)\n",
    "print(\"지수:\", x ** y)\n"
   ]
  },
  {
   "cell_type": "markdown",
   "metadata": {},
   "source": [
    "# 파이썬의 조건문"
   ]
  },
  {
   "cell_type": "code",
   "execution_count": 12,
   "metadata": {},
   "outputs": [
    {
     "name": "stdout",
     "output_type": "stream",
     "text": [
      "미성년자입니다.\n"
     ]
    }
   ],
   "source": [
    "age = 16\n",
    "\n",
    "if age >= 18:\n",
    "    print(\"성인입니다.\")\n",
    "else:\n",
    "    print(\"미성년자입니다.\")\n",
    "\n"
   ]
  },
  {
   "cell_type": "code",
   "execution_count": 15,
   "metadata": {},
   "outputs": [
    {
     "name": "stdout",
     "output_type": "stream",
     "text": [
      "D 학점\n"
     ]
    }
   ],
   "source": [
    "grade = 65\n",
    "\n",
    "if grade >= 90:\n",
    "    print(\"A 학점\")\n",
    "elif grade >= 80:\n",
    "    print(\"B 학점\")\n",
    "elif grade >= 70:\n",
    "    print(\"C 학점\")\n",
    "else:\n",
    "    print(\"D 학점\")\n"
   ]
  },
  {
   "cell_type": "code",
   "execution_count": 22,
   "metadata": {},
   "outputs": [
    {
     "name": "stdout",
     "output_type": "stream",
     "text": [
      "Not eligible for entry.\n",
      "Eligible for entry.\n"
     ]
    }
   ],
   "source": [
    "age = 15\n",
    "money = 5000\n",
    "\n",
    "if age >=18 and money >=5000:\n",
    "   print(\"Eligible for entry.\")\n",
    "else: \n",
    "   print(\"Not eligible for entry.\")\n",
    "\n",
    "if age >=18 or money >=5000:\n",
    "   print(\"Eligible for entry.\")\n",
    "else: \n",
    "   print(\"Not eligible for entry.\")"
   ]
  },
  {
   "cell_type": "markdown",
   "metadata": {},
   "source": [
    "# for 루프"
   ]
  },
  {
   "cell_type": "code",
   "execution_count": 17,
   "metadata": {},
   "outputs": [
    {
     "name": "stdout",
     "output_type": "stream",
     "text": [
      "사과\n",
      "바나나\n",
      "체리\n"
     ]
    }
   ],
   "source": [
    "fruits = [\"사과\", \"바나나\", \"체리\"]\n",
    "\n",
    "for fruit in fruits:\n",
    "    print(fruit)\n"
   ]
  },
  {
   "cell_type": "markdown",
   "metadata": {},
   "source": [
    "# while 루프"
   ]
  },
  {
   "cell_type": "code",
   "execution_count": 19,
   "metadata": {},
   "outputs": [
    {
     "name": "stdout",
     "output_type": "stream",
     "text": [
      "반복 횟수: 0\n",
      "반복 횟수: 1\n",
      "반복 횟수: 2\n",
      "반복 횟수: 3\n",
      "반복 횟수: 4\n"
     ]
    }
   ],
   "source": [
    "count = 0\n",
    "\n",
    "while count < 5:\n",
    "    print(\"반복 횟수:\", count)\n",
    "    count = count + 1\n"
   ]
  },
  {
   "cell_type": "markdown",
   "metadata": {},
   "source": [
    "# 파이썬의 range 함수\n",
    "\n",
    "range(start, stop, step)\n",
    "\n",
    "- start: 시작 숫자 (포함됨)\n",
    "- stop: 끝 숫자 (포함되지 않음)\n",
    "- step: 각 항목 간의 간격 (기본값은 1)"
   ]
  },
  {
   "cell_type": "code",
   "execution_count": 30,
   "metadata": {},
   "outputs": [
    {
     "name": "stdout",
     "output_type": "stream",
     "text": [
      "1\n",
      "3\n",
      "5\n",
      "7\n",
      "9\n"
     ]
    }
   ],
   "source": [
    "for i in range(1, 10, 2):\n",
    "    print(i)\n"
   ]
  },
  {
   "cell_type": "code",
   "execution_count": 31,
   "metadata": {},
   "outputs": [
    {
     "name": "stdout",
     "output_type": "stream",
     "text": [
      "2\n",
      "4\n",
      "6\n",
      "8\n"
     ]
    }
   ],
   "source": [
    "for i in range(2, 10, 2):\n",
    "    print(i)"
   ]
  },
  {
   "cell_type": "code",
   "execution_count": 35,
   "metadata": {},
   "outputs": [
    {
     "name": "stdout",
     "output_type": "stream",
     "text": [
      "10\n",
      "7\n",
      "4\n",
      "1\n"
     ]
    }
   ],
   "source": [
    "for i in range(10, 0, -3):\n",
    "    print(i)"
   ]
  },
  {
   "cell_type": "code",
   "execution_count": 36,
   "metadata": {},
   "outputs": [
    {
     "name": "stdout",
     "output_type": "stream",
     "text": [
      "[1, 2, 3, 4, 5]\n"
     ]
    }
   ],
   "source": [
    "my_list = list(range(1, 6))\n",
    "print(my_list)"
   ]
  },
  {
   "cell_type": "markdown",
   "metadata": {},
   "source": [
    "# 파이썬의 반복문 제어"
   ]
  },
  {
   "cell_type": "code",
   "execution_count": 38,
   "metadata": {},
   "outputs": [
    {
     "name": "stdout",
     "output_type": "stream",
     "text": [
      "사과\n",
      "바나나\n"
     ]
    }
   ],
   "source": [
    "fruits = [\"사과\", \"바나나\", \"체리\", \"포도\"]\n",
    "\n",
    "for fruit in fruits:\n",
    "    if fruit == \"체리\":\n",
    "        break\n",
    "    print(fruit)\n"
   ]
  },
  {
   "cell_type": "code",
   "execution_count": 39,
   "metadata": {},
   "outputs": [
    {
     "name": "stdout",
     "output_type": "stream",
     "text": [
      "1\n",
      "3\n",
      "5\n"
     ]
    }
   ],
   "source": [
    "numbers = [1, 2, 3, 4, 5]\n",
    "\n",
    "for number in numbers:\n",
    "    if number % 2 == 0:\n",
    "        continue\n",
    "    print(number)\n"
   ]
  },
  {
   "cell_type": "markdown",
   "metadata": {},
   "source": [
    "# 자료형"
   ]
  },
  {
   "cell_type": "code",
   "execution_count": 41,
   "metadata": {},
   "outputs": [
    {
     "name": "stdout",
     "output_type": "stream",
     "text": [
      "<class 'int'>\n",
      "<class 'float'>\n",
      "<class 'complex'>\n"
     ]
    }
   ],
   "source": [
    "x = 10    # int\n",
    "y = 3.14  # float\n",
    "z = 2j    # complex\n",
    "\n",
    "print(type(x))\n",
    "print(type(y))\n",
    "print(type(z))"
   ]
  },
  {
   "cell_type": "markdown",
   "metadata": {},
   "source": [
    "# 진법변환\n",
    "\n",
    "| 진법 변환 | 파이썬 함수 | 예제 |\n",
    "|------------|-------------|------|\n",
    "| 10진수에서 2진수 | `bin(decimal_number)` | `bin(42)` → `'0b101010'` |\n",
    "| 10진수에서 8진수 | `oct(decimal_number)` | `oct(42)` → `'0o52'` |\n",
    "| 10진수에서 16진수 | `hex(decimal_number)` | `hex(42)` → `'0x2a'` |\n",
    "| 2진수에서 10진수 | `int(binary_number, 2)` | `int('101010', 2)` → `42` |\n",
    "| 8진수에서 10진수 | `int(octal_number, 8)` | `int('52', 8)` → `42` |\n",
    "| 16진수에서 10진수 | `int(hexadecimal_number, 16)` | `int('2a', 16)` → `42` |\n"
   ]
  },
  {
   "cell_type": "code",
   "execution_count": 50,
   "metadata": {},
   "outputs": [
    {
     "name": "stdout",
     "output_type": "stream",
     "text": [
      "42를 2진수로 변환하면 0b101010\n"
     ]
    }
   ],
   "source": [
    "decimal_number = 42  # 10진수 숫자\n",
    "binary_number = bin(decimal_number)  # 10진수를 2진수로 변환\n",
    "print(f\"{decimal_number}를 2진수로 변환하면 {binary_number}\")\n"
   ]
  },
  {
   "cell_type": "code",
   "execution_count": 53,
   "metadata": {},
   "outputs": [
    {
     "name": "stdout",
     "output_type": "stream",
     "text": [
      "100를 8진수로 변환하면 0o144\n"
     ]
    }
   ],
   "source": [
    "decimal_number = 100  # 10진수 숫자\n",
    "octal_number = oct(decimal_number)  # 10진수를 8진수로 변환\n",
    "print(f\"{decimal_number}를 8진수로 변환하면 {octal_number}\")\n"
   ]
  },
  {
   "cell_type": "code",
   "execution_count": 57,
   "metadata": {},
   "outputs": [
    {
     "name": "stdout",
     "output_type": "stream",
     "text": [
      "42를 16진수로 변환하면 0x2a\n"
     ]
    }
   ],
   "source": [
    "decimal_number = 42  # 10진수 숫자\n",
    "hexadecimal_number = hex(decimal_number)  # 10진수를 16진수로 변환\n",
    "print(f\"{decimal_number}를 16진수로 변환하면 {hexadecimal_number}\")\n"
   ]
  },
  {
   "cell_type": "code",
   "execution_count": 58,
   "metadata": {},
   "outputs": [
    {
     "data": {
      "text/plain": [
       "42"
      ]
     },
     "execution_count": 58,
     "metadata": {},
     "output_type": "execute_result"
    }
   ],
   "source": [
    "int('101010', 2)"
   ]
  },
  {
   "cell_type": "code",
   "execution_count": 59,
   "metadata": {},
   "outputs": [
    {
     "data": {
      "text/plain": [
       "42"
      ]
     },
     "execution_count": 59,
     "metadata": {},
     "output_type": "execute_result"
    }
   ],
   "source": [
    "int('52', 8)"
   ]
  },
  {
   "cell_type": "code",
   "execution_count": 60,
   "metadata": {},
   "outputs": [
    {
     "data": {
      "text/plain": [
       "42"
      ]
     },
     "execution_count": 60,
     "metadata": {},
     "output_type": "execute_result"
    }
   ],
   "source": [
    "int('2a', 16)"
   ]
  },
  {
   "cell_type": "markdown",
   "metadata": {},
   "source": [
    "# 파이썬의 문자열"
   ]
  },
  {
   "cell_type": "code",
   "execution_count": 65,
   "metadata": {},
   "outputs": [
    {
     "name": "stdout",
     "output_type": "stream",
     "text": [
      "작은 따옴표로 생성된 문자열\n",
      "큰 따옴표로 생성된 문자열\n"
     ]
    }
   ],
   "source": [
    "single_quoted = '작은 따옴표로 생성된 문자열'\n",
    "double_quoted = \"큰 따옴표로 생성된 문자열\"\n",
    "print(single_quoted)\n",
    "print(double_quoted)\n"
   ]
  },
  {
   "cell_type": "code",
   "execution_count": 64,
   "metadata": {},
   "outputs": [
    {
     "name": "stdout",
     "output_type": "stream",
     "text": [
      "안녕, 파이썬\n"
     ]
    }
   ],
   "source": [
    "greeting = \"안녕, \"\n",
    "name = \"파이썬\"\n",
    "message = greeting + name\n",
    "print(message)\n"
   ]
  },
  {
   "cell_type": "code",
   "execution_count": 67,
   "metadata": {},
   "outputs": [
    {
     "name": "stdout",
     "output_type": "stream",
     "text": [
      "13\n"
     ]
    }
   ],
   "source": [
    "text = \"Hello, World!\"\n",
    "length = len(text)\n",
    "print(length)\n"
   ]
  },
  {
   "cell_type": "code",
   "execution_count": 69,
   "metadata": {},
   "outputs": [
    {
     "name": "stdout",
     "output_type": "stream",
     "text": [
      "P\n",
      "t\n"
     ]
    }
   ],
   "source": [
    "text = \"Python\"\n",
    "first_character = text[0]  # 'P'\n",
    "third_character = text[2]  # 't'\n",
    "\n",
    "print(first_character)\n",
    "print(third_character)\n",
    "\n"
   ]
  },
  {
   "cell_type": "code",
   "execution_count": 70,
   "metadata": {},
   "outputs": [
    {
     "name": "stdout",
     "output_type": "stream",
     "text": [
      "World\n"
     ]
    }
   ],
   "source": [
    "text = \"Hello, World!\"\n",
    "substring = text[7:12]  # \"World\"\n",
    "print(substring)\n",
    "\n"
   ]
  },
  {
   "cell_type": "code",
   "execution_count": 73,
   "metadata": {},
   "outputs": [
    {
     "name": "stdout",
     "output_type": "stream",
     "text": [
      "False\n"
     ]
    }
   ],
   "source": [
    "text = \"Python is a powerful language\"\n",
    "is_powerful = \"powerful\" in text  # True\n",
    "\n",
    "print(is_powerful)\n"
   ]
  },
  {
   "cell_type": "code",
   "execution_count": 75,
   "metadata": {},
   "outputs": [
    {
     "name": "stdout",
     "output_type": "stream",
     "text": [
      "PYTHON\n",
      "python\n"
     ]
    }
   ],
   "source": [
    "text = \"Python\"\n",
    "uppercase = text.upper()  # \"PYTHON\"\n",
    "lowercase = text.lower()  # \"python\"\n",
    "print(uppercase)\n",
    "print(lowercase)\n"
   ]
  },
  {
   "cell_type": "code",
   "execution_count": 76,
   "metadata": {},
   "outputs": [
    {
     "name": "stdout",
     "output_type": "stream",
     "text": [
      "환영합니다, 파이썬!\n"
     ]
    }
   ],
   "source": [
    "name = \"파이썬\"\n",
    "message = f\"환영합니다, {name}!\"\n",
    "print(message)\n"
   ]
  },
  {
   "cell_type": "code",
   "execution_count": 78,
   "metadata": {},
   "outputs": [
    {
     "name": "stdout",
     "output_type": "stream",
     "text": [
      "이것은 파이썬의 문자열입니다.\n"
     ]
    }
   ],
   "source": [
    "words = [\"이것은\", \"파이썬의\", \"문자열입니다.\"]\n",
    "sentence = \" \".join(words)  # \"이것은 파이썬의 문자열입니다.\"\n",
    "print(sentence)\n"
   ]
  },
  {
   "cell_type": "code",
   "execution_count": 79,
   "metadata": {},
   "outputs": [
    {
     "name": "stdout",
     "output_type": "stream",
     "text": [
      "This is a \n",
      "multiple lines \n",
      "string.\n"
     ]
    }
   ],
   "source": [
    "# 삼중 따옴표로 여러 줄의 문자열을 생성\n",
    "str3 = \"\"\"This is a \n",
    "multiple lines \n",
    "string.\"\"\"\n",
    "print(str3)"
   ]
  },
  {
   "cell_type": "code",
   "execution_count": 80,
   "metadata": {},
   "outputs": [
    {
     "name": "stdout",
     "output_type": "stream",
     "text": [
      "Hello World\n",
      "PythonPythonPython\n"
     ]
    }
   ],
   "source": [
    "# + 연산자를 사용하여 문자열 결합하기\n",
    "greeting = \"Hello\" + \" \" + \"World\"\n",
    "print(greeting)  # Output: Hello World\n",
    "\n",
    "# * 연산자를 사용하여 동일한 문자열 반복하기 \n",
    "repeated_string = \"Python\" * 3 \n",
    "print(repeated_string)  # Output: PythonPythonPython"
   ]
  },
  {
   "cell_type": "markdown",
   "metadata": {},
   "source": [
    "| 함수 이름          | 설명                                     | 예제                                                |\n",
    "|--------------------|------------------------------------------|-----------------------------------------------------|\n",
    "| `len(str)`         | 문자열의 길이를 반환합니다.            | `text = \"Hello, World!\"`<br> `length = len(text)` |\n",
    "| `str[index]`       | 문자열에서 지정된 인덱스 위치의 문자를 반환합니다. | `text = \"Python\"`<br> `first_character = text[0]`<br> `third_character = text[2]` |\n",
    "| `str[start:end]`   | 문자열을 슬라이싱하여 부분 문자열을 추출합니다. | `text = \"Hello, World!\"`<br> `substring = text[7:12]` |\n",
    "| `str1 + str2`      | 두 문자열을 연결합니다.                | `greeting = \"안녕, \"`<br> `name = \"파이썬\"`<br> `message = greeting + name` |\n",
    "| `str.find(sub)`    | 문자열에서 부분 문자열 `sub`의 첫 번째 출현 위치(인덱스)를 반환합니다. 없으면 -1을 반환합니다. | `text = \"Python is a powerful language\"`<br> `position = text.find(\"powerful\")` |\n",
    "| `str.replace(old, new)` | 문자열에서 모든 `old` 문자열을 `new` 문자열로 대체합니다. | `text = \"Python is fun and Python is powerful\"`<br> `new_text = text.replace(\"Python\", \"Java\")` |\n",
    "| `str.upper()`       | 문자열의 모든 문자를 대문자로 변환합니다. | `text = \"Hello, World!\"`<br> `uppercase = text.upper()` |\n",
    "| `str.lower()`       | 문자열의 모든 문자를 소문자로 변환합니다. | `text = \"Hello, World!\"`<br> `lowercase = text.lower()` |\n",
    "| `str.strip()`       | 문자열 앞뒤의 공백 문자(공백, 탭, 줄 바꿈)를 제거합니다. | `text = \"   파이썬   \"`<br> `stripped_text = text.strip()` |\n",
    "| `str.split(separator)` | 문자열을 분할하여 부분 문자열의 리스트를 반환합니다. | `sentence = \"이것은 파이썬의 문자열입니다.\"`<br> `words = sentence.split()` |\n",
    "| `str.join(iterable)` | 주어진 리스트나 반복 가능한 객체를 문자열로 결합합니다. | `words = [\"이것은\", \"파이썬의\", \"문자열입니다.\"]`<br> `sentence = \" \".join(words)` |\n"
   ]
  },
  {
   "cell_type": "code",
   "execution_count": 83,
   "metadata": {},
   "outputs": [
    {
     "name": "stdout",
     "output_type": "stream",
     "text": [
      "12\n"
     ]
    }
   ],
   "source": [
    "text = \"Python is a powerful language\"\n",
    "position = text.find(\"powerful\")\n",
    "print(position)"
   ]
  },
  {
   "cell_type": "code",
   "execution_count": 84,
   "metadata": {},
   "outputs": [
    {
     "name": "stdout",
     "output_type": "stream",
     "text": [
      "Python is fun and Python is powerful\n",
      "Java is fun and Java is powerful\n"
     ]
    }
   ],
   "source": [
    "text = \"Python is fun and Python is powerful\"\n",
    "new_text = text.replace(\"Python\", \"Java\")\n",
    "print(text)\n",
    "print(new_text)"
   ]
  },
  {
   "cell_type": "code",
   "execution_count": 88,
   "metadata": {},
   "outputs": [
    {
     "name": "stdout",
     "output_type": "stream",
     "text": [
      "|    파이썬    |\n",
      "|파이썬|\n"
     ]
    }
   ],
   "source": [
    "text = \"    파이썬    \"\n",
    "stripped_text = text.strip()\n",
    "print(\"|\"+text+\"|\")\n",
    "print(\"|\"+stripped_text+\"|\")"
   ]
  },
  {
   "cell_type": "code",
   "execution_count": 89,
   "metadata": {},
   "outputs": [
    {
     "name": "stdout",
     "output_type": "stream",
     "text": [
      "['이것은', '파이썬의', '문자열입니다.']\n"
     ]
    }
   ],
   "source": [
    "sentence = \"이것은 파이썬의 문자열입니다.\"\n",
    "words = sentence.split()\n",
    "print(words)"
   ]
  },
  {
   "cell_type": "code",
   "execution_count": 90,
   "metadata": {},
   "outputs": [
    {
     "data": {
      "text/plain": [
       "'Hello world'"
      ]
     },
     "execution_count": 90,
     "metadata": {},
     "output_type": "execute_result"
    }
   ],
   "source": [
    "\"hello world\".capitalize()"
   ]
  },
  {
   "cell_type": "code",
   "execution_count": 91,
   "metadata": {},
   "outputs": [
    {
     "data": {
      "text/plain": [
       "'Hello World'"
      ]
     },
     "execution_count": 91,
     "metadata": {},
     "output_type": "execute_result"
    }
   ],
   "source": [
    "\"hello world\".title()"
   ]
  },
  {
   "cell_type": "code",
   "execution_count": null,
   "metadata": {},
   "outputs": [],
   "source": []
  }
 ],
 "metadata": {
  "kernelspec": {
   "display_name": "Python 3",
   "language": "python",
   "name": "python3"
  },
  "language_info": {
   "codemirror_mode": {
    "name": "ipython",
    "version": 3
   },
   "file_extension": ".py",
   "mimetype": "text/x-python",
   "name": "python",
   "nbconvert_exporter": "python",
   "pygments_lexer": "ipython3",
   "version": "3.12.0"
  }
 },
 "nbformat": 4,
 "nbformat_minor": 2
}
