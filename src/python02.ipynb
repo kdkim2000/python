{
 "cells": [
  {
   "cell_type": "markdown",
   "metadata": {},
   "source": [
    "# 자료형"
   ]
  },
  {
   "cell_type": "markdown",
   "metadata": {},
   "source": [
    "## 리스트"
   ]
  },
  {
   "cell_type": "code",
   "execution_count": 4,
   "metadata": {},
   "outputs": [],
   "source": [
    "my_list = [1, 2, 3, [1, 2, \"list\"], \"문자도 넣을 수 있어요\"]"
   ]
  },
  {
   "cell_type": "code",
   "execution_count": 13,
   "metadata": {},
   "outputs": [
    {
     "data": {
      "text/plain": [
       "'문자도 넣을 수 있어요'"
      ]
     },
     "execution_count": 13,
     "metadata": {},
     "output_type": "execute_result"
    }
   ],
   "source": [
    "my_list[4]"
   ]
  },
  {
   "cell_type": "code",
   "execution_count": 3,
   "metadata": {},
   "outputs": [
    {
     "data": {
      "text/plain": [
       "list"
      ]
     },
     "execution_count": 3,
     "metadata": {},
     "output_type": "execute_result"
    }
   ],
   "source": [
    "type(my_list)"
   ]
  },
  {
   "cell_type": "code",
   "execution_count": 14,
   "metadata": {},
   "outputs": [],
   "source": [
    "my_list[4] = 5"
   ]
  },
  {
   "cell_type": "code",
   "execution_count": 17,
   "metadata": {},
   "outputs": [
    {
     "name": "stdout",
     "output_type": "stream",
     "text": [
      "[1, 2, 3, [1, 2, 'list'], 5]\n"
     ]
    }
   ],
   "source": [
    "print(my_list)"
   ]
  },
  {
   "cell_type": "code",
   "execution_count": 22,
   "metadata": {},
   "outputs": [
    {
     "name": "stdout",
     "output_type": "stream",
     "text": [
      "[1, 2, 3, 4]\n",
      "2\n",
      "[1, 3, 4]\n"
     ]
    }
   ],
   "source": [
    "my_list = [1, 2, 3]\n",
    "my_list.append(4)  # 리스트 끝에 4 추가\n",
    "print(my_list)\n",
    "\n",
    "print(my_list.pop(1))     # 두 번째 요소 제거 (2)\n",
    "print(my_list)"
   ]
  },
  {
   "cell_type": "code",
   "execution_count": 28,
   "metadata": {},
   "outputs": [
    {
     "name": "stdout",
     "output_type": "stream",
     "text": [
      "[1, 2, 3, 4]\n"
     ]
    }
   ],
   "source": [
    "my_list = [1, 2, 3, 4, 5]\n",
    "sub_list = my_list[:4]  # 인덱스 1, 2 및 3에 해당하는 요소 추출\n",
    "print(sub_list)"
   ]
  },
  {
   "cell_type": "code",
   "execution_count": 29,
   "metadata": {},
   "outputs": [
    {
     "name": "stdout",
     "output_type": "stream",
     "text": [
      "[1, 2, 3, 4, 5, 6]\n"
     ]
    }
   ],
   "source": [
    "list1 = [1, 2, 3]\n",
    "list2 = [4, 5, 6]\n",
    "combined_list = list1 + list2  # 두 리스트 결합\n",
    "print(combined_list)"
   ]
  },
  {
   "cell_type": "code",
   "execution_count": 31,
   "metadata": {},
   "outputs": [
    {
     "name": "stdout",
     "output_type": "stream",
     "text": [
      "[1, 4, 9, 16, 25]\n"
     ]
    }
   ],
   "source": [
    "numbers = [1, 2, 3, 4, 5]\n",
    "squared_numbers = [x**2 for x in numbers] \n",
    "print(squared_numbers)"
   ]
  },
  {
   "cell_type": "code",
   "execution_count": 35,
   "metadata": {},
   "outputs": [
    {
     "name": "stdout",
     "output_type": "stream",
     "text": [
      "[[1, 2, 3], [4, 5, 6], [7, 8, 9]]\n",
      "[1, 2, 3]\n",
      "[4, 5, 6]\n",
      "[7, 8, 9]\n"
     ]
    }
   ],
   "source": [
    "matrix = [[1, 2, 3], [4, 5, 6], [7, 8, 9]]\n",
    "print(matrix)\n",
    "print(matrix[0])\n",
    "print(matrix[1])\n",
    "print(matrix[2])"
   ]
  },
  {
   "cell_type": "markdown",
   "metadata": {},
   "source": [
    "### 리스트에서 사용할 수 있는 함수 \n",
    "\n",
    "| 함수 이름          | 설명                                     | 예제                                                |\n",
    "|--------------------|------------------------------------------|-----------------------------------------------------|\n",
    "| `append(item)`     | 리스트의 끝에 요소를 추가합니다.         | `my_list = [1, 2, 3]`<br> `my_list.append(4)` 결과: `[1, 2, 3, 4]` |\n",
    "| `extend(iterable)` | 리스트에 다른 반복 가능한 객체의 모든 요소를 추가합니다. | `list1 = [1, 2]`<br> `list2 = [3, 4]`<br> `list1.extend(list2)` 결과: `[1, 2, 3, 4]` |\n",
    "| `insert(index, item)` | 특정 위치에 요소를 삽입합니다. | `my_list = [1, 2, 3]`<br> `my_list.insert(1, 4)` 결과: `[1, 4, 2, 3]` |\n",
    "| `remove(item)`     | 특정 요소를 삭제합니다.                 | `my_list = [1, 2, 3, 2]`<br> `my_list.remove(2)` 결과: `[1, 3, 2]` |\n",
    "| `pop(index)`       | 지정된 인덱스의 요소를 제거하고 반환합니다. | `my_list = [1, 2, 3]`<br> `popped_item = my_list.pop(1)` 결과: `2` |\n",
    "| `index(item)`      | 특정 요소의 첫 번째 인덱스를 반환합니다. | `my_list = [1, 2, 3, 2]`<br> `index = my_list.index(2)` 결과: `1` |\n",
    "| `count(item)`      | 리스트에서 특정 요소의 개수를 세어 반환합니다. | `my_list = [1, 2, 3, 2]`<br> `count = my_list.count(2)` 결과: `2` |\n",
    "| `sort()`            | 리스트를 오름차순으로 정렬합니다. | `my_list = [3, 1, 2]`<br> `my_list.sort()` 결과: `[1, 2, 3]` |\n",
    "| `reverse()`         | 리스트의 순서를 뒤집습니다. | `my_list = [1, 2, 3]`<br> `my_list.reverse()` 결과: `[3, 2, 1]` |\n",
    "| `copy()`            | 리스트의 얕은 복사본을 생성합니다. | `original_list = [1, 2, 3]`<br> `new_list = original_list.copy()` |\n",
    "| `clear()`           | 리스트의 모든 요소를 제거합니다. | `my_list = [1, 2, 3]`<br> `my_list.clear()` 결과: `[]` |\n"
   ]
  },
  {
   "cell_type": "code",
   "execution_count": 37,
   "metadata": {},
   "outputs": [
    {
     "name": "stdout",
     "output_type": "stream",
     "text": [
      "[1, 2, 3, 4]\n",
      "[3, 4]\n",
      "[1, 2, 3, 4, 3, 4]\n"
     ]
    }
   ],
   "source": [
    "list1 = [1, 2]\n",
    "list2 = [3, 4]\n",
    "list1.extend(list2)\n",
    "print(list1)\n",
    "print(list2)\n",
    "\n",
    "list1 = list1 + list2\n",
    "print(list1)"
   ]
  },
  {
   "cell_type": "code",
   "execution_count": 38,
   "metadata": {},
   "outputs": [
    {
     "name": "stdout",
     "output_type": "stream",
     "text": [
      "[1, 4, 2, 3]\n"
     ]
    }
   ],
   "source": [
    "my_list = [1, 2, 3]\n",
    "my_list.insert(1, 4)\n",
    "print(my_list)"
   ]
  },
  {
   "cell_type": "code",
   "execution_count": 43,
   "metadata": {},
   "outputs": [
    {
     "name": "stdout",
     "output_type": "stream",
     "text": [
      "[1, 2, 3, 2]\n"
     ]
    }
   ],
   "source": [
    "my_list = [4, 1, 2, 3, 2]\n",
    "my_list.remove(4)\n",
    "print(my_list)"
   ]
  },
  {
   "cell_type": "code",
   "execution_count": 44,
   "metadata": {},
   "outputs": [
    {
     "name": "stdout",
     "output_type": "stream",
     "text": [
      "[1, 3, 2]\n"
     ]
    }
   ],
   "source": [
    "my_list = [1, 2, 3, 2]\n",
    "my_list.remove(2)\n",
    "print(my_list)"
   ]
  },
  {
   "cell_type": "code",
   "execution_count": 49,
   "metadata": {},
   "outputs": [
    {
     "name": "stdout",
     "output_type": "stream",
     "text": [
      "1\n",
      "4\n"
     ]
    }
   ],
   "source": [
    "my_list = [1, 2, 3, 2, 2, 3, 4, 5, 6, 2]\n",
    "index = my_list.index(2)\n",
    "print(index)\n",
    "print(my_list.count(2))"
   ]
  },
  {
   "cell_type": "code",
   "execution_count": 54,
   "metadata": {},
   "outputs": [
    {
     "name": "stdout",
     "output_type": "stream",
     "text": [
      "None\n"
     ]
    }
   ],
   "source": [
    "my_list1 = [3, 1, 2]\n",
    "my_list1 = my_list.sort()\n",
    "print(my_list1)\n"
   ]
  },
  {
   "cell_type": "code",
   "execution_count": 55,
   "metadata": {},
   "outputs": [
    {
     "name": "stdout",
     "output_type": "stream",
     "text": [
      "None\n"
     ]
    }
   ],
   "source": [
    "my_list = [1, 2, 3]\n",
    "print(my_list.reverse())"
   ]
  },
  {
   "cell_type": "code",
   "execution_count": 56,
   "metadata": {},
   "outputs": [
    {
     "name": "stdout",
     "output_type": "stream",
     "text": [
      "[1, 2, 3]\n"
     ]
    }
   ],
   "source": [
    "original_list = [1, 2, 3]\n",
    "new_list = original_list.copy()\n",
    "print(new_list)"
   ]
  },
  {
   "cell_type": "code",
   "execution_count": 57,
   "metadata": {},
   "outputs": [
    {
     "name": "stdout",
     "output_type": "stream",
     "text": [
      "[]\n"
     ]
    }
   ],
   "source": [
    "my_list = [1, 2, 3]\n",
    "my_list.clear()\n",
    "print(my_list)"
   ]
  },
  {
   "cell_type": "markdown",
   "metadata": {},
   "source": [
    "## 튜플"
   ]
  },
  {
   "cell_type": "code",
   "execution_count": 61,
   "metadata": {},
   "outputs": [
    {
     "name": "stdout",
     "output_type": "stream",
     "text": [
      "(1, 2, 3)\n",
      "(4, 5, 6)\n",
      "<class 'tuple'>\n",
      "<class 'tuple'>\n"
     ]
    }
   ],
   "source": [
    "my_tuple = (1, 2, 3)\n",
    "another_tuple = 4, 5, 6  # 괄호 없이도 가능\n",
    "\n",
    "print(my_tuple)\n",
    "print(another_tuple)\n",
    "print(type(my_tuple))\n",
    "print(type(another_tuple))"
   ]
  },
  {
   "cell_type": "code",
   "execution_count": 62,
   "metadata": {},
   "outputs": [
    {
     "name": "stdout",
     "output_type": "stream",
     "text": [
      "1\n",
      "2\n"
     ]
    }
   ],
   "source": [
    "my_tuple = (1, 2, 3)\n",
    "first_element = my_tuple[0]  # 첫 번째 요소에 접근 (1)\n",
    "second_element = my_tuple[1]  # 두 번째 요소에 접근 (2)\n",
    "\n",
    "print(first_element)\n",
    "print(second_element)"
   ]
  },
  {
   "cell_type": "code",
   "execution_count": 65,
   "metadata": {},
   "outputs": [
    {
     "name": "stdout",
     "output_type": "stream",
     "text": [
      "1\n",
      "2\n",
      "3\n"
     ]
    }
   ],
   "source": [
    "my_tuple = (1, 2, 3)\n",
    "a, b, c = my_tuple  # a에 1, b에 2, c에 3 할당\n",
    "\n",
    "print(a)\n",
    "print(b)\n",
    "print(c)"
   ]
  },
  {
   "cell_type": "code",
   "execution_count": 66,
   "metadata": {},
   "outputs": [
    {
     "ename": "TypeError",
     "evalue": "'tuple' object does not support item assignment",
     "output_type": "error",
     "traceback": [
      "\u001b[1;31m---------------------------------------------------------------------------\u001b[0m",
      "\u001b[1;31mTypeError\u001b[0m                                 Traceback (most recent call last)",
      "\u001b[1;32mc:\\JAKorea2\\python\\src\\python02.ipynb Cell 27\u001b[0m line \u001b[0;36m2\n\u001b[0;32m      <a href='vscode-notebook-cell:/c%3A/JAKorea2/python/src/python02.ipynb#X42sZmlsZQ%3D%3D?line=0'>1</a>\u001b[0m my_tuple \u001b[39m=\u001b[39m (\u001b[39m1\u001b[39m, \u001b[39m2\u001b[39m, \u001b[39m3\u001b[39m)\n\u001b[1;32m----> <a href='vscode-notebook-cell:/c%3A/JAKorea2/python/src/python02.ipynb#X42sZmlsZQ%3D%3D?line=1'>2</a>\u001b[0m my_tuple[\u001b[39m1\u001b[39;49m] \u001b[39m=\u001b[39m \u001b[39m4\u001b[39m  \u001b[39m# 오류: 튜플은 수정할 수 없음\u001b[39;00m\n",
      "\u001b[1;31mTypeError\u001b[0m: 'tuple' object does not support item assignment"
     ]
    }
   ],
   "source": [
    "my_tuple = (1, 2, 3)\n",
    "my_tuple[1] = 4  # 오류: 튜플은 수정할 수 없음"
   ]
  },
  {
   "cell_type": "markdown",
   "metadata": {},
   "source": [
    "### 튜플의 함수\n",
    "\n",
    "| 함수 이름          | 설명                                     | 예제                                                |\n",
    "|--------------------|------------------------------------------|-----------------------------------------------------|\n",
    "| `count(item)`      | 튜플에서 특정 요소의 개수를 세어 반환합니다. | `my_tuple = (1, 2, 2, 3, 2)`<br> `count = my_tuple.count(2)` 결과: `3` |\n",
    "| `index(item)`      | 튜플에서 특정 요소의 첫 번째 인덱스를 반환합니다. | `my_tuple = (1, 2, 3, 2)`<br> `index = my_tuple.index(2)` 결과: `1` |\n"
   ]
  },
  {
   "cell_type": "code",
   "execution_count": 67,
   "metadata": {},
   "outputs": [
    {
     "name": "stdout",
     "output_type": "stream",
     "text": [
      "3\n"
     ]
    }
   ],
   "source": [
    "my_tuple = (1, 2, 2, 3, 2)\n",
    "count = my_tuple.count(2)\n",
    "print(count)"
   ]
  },
  {
   "cell_type": "code",
   "execution_count": 68,
   "metadata": {},
   "outputs": [
    {
     "name": "stdout",
     "output_type": "stream",
     "text": [
      "1\n"
     ]
    }
   ],
   "source": [
    "my_tuple = (1, 2, 3, 2)\n",
    "index = my_tuple.index(2) \n",
    "print(index)"
   ]
  },
  {
   "cell_type": "markdown",
   "metadata": {},
   "source": [
    "## 집합(Set)"
   ]
  },
  {
   "cell_type": "code",
   "execution_count": 71,
   "metadata": {},
   "outputs": [
    {
     "name": "stdout",
     "output_type": "stream",
     "text": [
      "{1, 2, 3, 4, 5}\n"
     ]
    },
    {
     "data": {
      "text/plain": [
       "set"
      ]
     },
     "execution_count": 71,
     "metadata": {},
     "output_type": "execute_result"
    }
   ],
   "source": [
    "my_set = {1, 2, 3, 4, 5}\n",
    "print(my_set)\n",
    "type(my_set)"
   ]
  },
  {
   "cell_type": "code",
   "execution_count": 72,
   "metadata": {},
   "outputs": [
    {
     "name": "stdout",
     "output_type": "stream",
     "text": [
      "{1, 2, 3, 4, 5}\n"
     ]
    }
   ],
   "source": [
    "my_set = {1, 2, 2, 3, 3, 4, 5}\n",
    "print(my_set)"
   ]
  },
  {
   "cell_type": "code",
   "execution_count": 73,
   "metadata": {},
   "outputs": [
    {
     "name": "stdout",
     "output_type": "stream",
     "text": [
      "{1, 2, 3, 4, 5, 6, 7}\n",
      "{3, 4, 5}\n",
      "{1, 2}\n",
      "{6, 7}\n"
     ]
    }
   ],
   "source": [
    "set1 = {1, 2, 3, 4, 5}\n",
    "set2 = {3, 4, 5, 6, 7}\n",
    "\n",
    "union_set = set1 | set2  # 합집합\n",
    "intersection_set = set1 & set2  # 교집합\n",
    "difference_set1 = set1 - set2  # 차집합\n",
    "difference_set2 = set2 - set1  # 차집합\n",
    "\n",
    "print(union_set)\n",
    "print(intersection_set)\n",
    "print(difference_set1)\n",
    "print(difference_set2)"
   ]
  },
  {
   "cell_type": "code",
   "execution_count": 74,
   "metadata": {},
   "outputs": [
    {
     "name": "stdout",
     "output_type": "stream",
     "text": [
      "{1, 2, 3}\n",
      "{1, 2, 3, 4}\n",
      "{1, 3, 4}\n"
     ]
    }
   ],
   "source": [
    "my_set = {1, 2, 3}\n",
    "print(my_set)\n",
    "my_set.add(4)  # 요소 추가\n",
    "print(my_set)\n",
    "my_set.remove(2)  # 요소 제거\n",
    "print(my_set)"
   ]
  },
  {
   "cell_type": "code",
   "execution_count": 75,
   "metadata": {},
   "outputs": [
    {
     "name": "stdout",
     "output_type": "stream",
     "text": [
      "5\n"
     ]
    }
   ],
   "source": [
    "my_set = {1, 2, 3, 4, 5}\n",
    "size = len(my_set)  # size는 5\n",
    "print(size)"
   ]
  },
  {
   "cell_type": "code",
   "execution_count": 78,
   "metadata": {},
   "outputs": [
    {
     "name": "stdout",
     "output_type": "stream",
     "text": [
      "True\n"
     ]
    }
   ],
   "source": [
    "my_set = {1, 2, 3, 4, 5}\n",
    "result = 3 in my_set  # result는 True\n",
    "print(result)"
   ]
  },
  {
   "cell_type": "markdown",
   "metadata": {},
   "source": [
    "### 집합에서 사용하는 함수\n",
    "\n",
    "| 함수 이름          | 설명                                     | 예제                                                |\n",
    "|--------------------|------------------------------------------|-----------------------------------------------------|\n",
    "| `add(item)`       | 집합에 요소를 추가합니다.              | `my_set = {1, 2, 3}`<br> `my_set.add(4)` 결과: `{1, 2, 3, 4}` |\n",
    "| `remove(item)`    | 집합에서 특정 요소를 제거합니다.        | `my_set = {1, 2, 3, 4}`<br> `my_set.remove(2)` 결과: `{1, 3, 4}` |\n",
    "| `discard(item)`   | 집합에서 특정 요소를 제거하나, 요소가 없어도 오류가 발생하지 않습니다. | `my_set = {1, 2, 3, 4}`<br> `my_set.discard(5)` |\n",
    "| `pop()`           | 집합에서 임의의 요소를 제거하고 반환합니다. | `my_set = {1, 2, 3, 4}`<br> `popped_item = my_set.pop()` |\n",
    "| `clear()`         | 집합의 모든 요소를 제거합니다.          | `my_set = {1, 2, 3}`<br> `my_set.clear()` 결과: `{}` |\n",
    "| `copy()`          | 집합의 얕은 복사본을 생성합니다.       | `original_set = {1, 2, 3}`<br> `new_set = original_set.copy()` |\n",
    "| `union(other_set)` | 두 집합을 합집합으로 결합합니다.       | `set1 = {1, 2, 3}`<br> `set2 = {3, 4, 5}`<br> `union_set = set1.union(set2)` 결과: `{1, 2, 3, 4, 5}` |\n",
    "| `intersection(other_set)` | 두 집합의 교집합을 반환합니다. | `set1 = {1, 2, 3}`<br> `set2 = {3, 4, 5}`<br> `intersection_set = set1.intersection(set2)` 결과: `{3}` |\n",
    "| `difference(other_set)` | 두 집합의 차집합을 반환합니다. | `set1 = {1, 2, 3}`<br> `set2 = {3, 4, 5}`<br> `difference_set = set1.difference(set2)` 결과: `{1, 2}` |\n",
    "| `issubset(other_set)` | 집합이 다른 집합의 부분집합인지 확인합니다. | `set1 = {1, 2, 3}`<br> `set2 = {1, 2, 3, 4, 5}`<br> `is_subset = set1.issubset(set2)` 결과: `True` |\n",
    "| `issuperset(other_set)` | 집합이 다른 집합의 상위집합인지 확인합니다. | `set1 = {1, 2, 3, 4, 5}`<br> `set2 = {1, 2, 3}`<br> `is_superset = set1.issuperset(set2)` 결과: `True` |\n"
   ]
  },
  {
   "cell_type": "code",
   "execution_count": 79,
   "metadata": {},
   "outputs": [
    {
     "name": "stdout",
     "output_type": "stream",
     "text": [
      "{1, 2, 3, 4}\n"
     ]
    }
   ],
   "source": [
    "my_set = {1, 2, 3}\n",
    "my_set.add(4)\n",
    "print(my_set)"
   ]
  },
  {
   "cell_type": "code",
   "execution_count": 85,
   "metadata": {},
   "outputs": [
    {
     "ename": "KeyError",
     "evalue": "5",
     "output_type": "error",
     "traceback": [
      "\u001b[1;31m---------------------------------------------------------------------------\u001b[0m",
      "\u001b[1;31mKeyError\u001b[0m                                  Traceback (most recent call last)",
      "\u001b[1;32mc:\\JAKorea2\\python\\src\\python02.ipynb Cell 40\u001b[0m line \u001b[0;36m2\n\u001b[0;32m      <a href='vscode-notebook-cell:/c%3A/JAKorea2/python/src/python02.ipynb#X63sZmlsZQ%3D%3D?line=0'>1</a>\u001b[0m my_set \u001b[39m=\u001b[39m {\u001b[39m1\u001b[39m, \u001b[39m2\u001b[39m, \u001b[39m3\u001b[39m, \u001b[39m4\u001b[39m}\n\u001b[1;32m----> <a href='vscode-notebook-cell:/c%3A/JAKorea2/python/src/python02.ipynb#X63sZmlsZQ%3D%3D?line=1'>2</a>\u001b[0m my_set\u001b[39m.\u001b[39;49mremove(\u001b[39m5\u001b[39;49m)\n\u001b[0;32m      <a href='vscode-notebook-cell:/c%3A/JAKorea2/python/src/python02.ipynb#X63sZmlsZQ%3D%3D?line=2'>3</a>\u001b[0m \u001b[39mprint\u001b[39m(my_set)\n",
      "\u001b[1;31mKeyError\u001b[0m: 5"
     ]
    }
   ],
   "source": [
    "my_set = {1, 2, 3, 4}\n",
    "my_set.remove(5)\n",
    "print(my_set)"
   ]
  },
  {
   "cell_type": "code",
   "execution_count": 84,
   "metadata": {},
   "outputs": [
    {
     "name": "stdout",
     "output_type": "stream",
     "text": [
      "{1, 2, 3, 4}\n"
     ]
    }
   ],
   "source": [
    "my_set = {1, 2, 3, 4}\n",
    "my_set.discard(5)\n",
    "print(my_set)"
   ]
  },
  {
   "cell_type": "code",
   "execution_count": 88,
   "metadata": {},
   "outputs": [
    {
     "name": "stdout",
     "output_type": "stream",
     "text": [
      "1\n",
      "{2, 3, 4}\n",
      "2\n",
      "{3, 4}\n"
     ]
    }
   ],
   "source": [
    "my_set = {1, 2, 3, 4}\n",
    "popped_item = my_set.pop()\n",
    "print(popped_item)\n",
    "print(my_set)\n",
    "popped_item = my_set.pop()\n",
    "print(popped_item)\n",
    "print(my_set)"
   ]
  },
  {
   "cell_type": "code",
   "execution_count": 89,
   "metadata": {},
   "outputs": [
    {
     "name": "stdout",
     "output_type": "stream",
     "text": [
      "set()\n"
     ]
    }
   ],
   "source": [
    "my_set = {1, 2, 3}\n",
    "my_set.clear()\n",
    "print(my_set)"
   ]
  },
  {
   "cell_type": "code",
   "execution_count": 90,
   "metadata": {},
   "outputs": [
    {
     "name": "stdout",
     "output_type": "stream",
     "text": [
      "{1, 2, 3}\n"
     ]
    }
   ],
   "source": [
    "original_set = {1, 2, 3}\n",
    "new_set = original_set.copy()\n",
    "print(new_set)"
   ]
  },
  {
   "cell_type": "code",
   "execution_count": 92,
   "metadata": {},
   "outputs": [
    {
     "name": "stdout",
     "output_type": "stream",
     "text": [
      "{1, 2, 3, 4, 5}\n",
      "{1, 2, 3, 4, 5}\n"
     ]
    }
   ],
   "source": [
    "set1 = {1, 2, 3}\n",
    "set2 = {3, 4, 5}\n",
    "union_set = set1.union(set2)\n",
    "print(union_set)\n",
    "union_set2 = set1 | set2\n",
    "print(union_set2)\n"
   ]
  },
  {
   "cell_type": "code",
   "execution_count": 94,
   "metadata": {},
   "outputs": [
    {
     "name": "stdout",
     "output_type": "stream",
     "text": [
      "{3}\n",
      "{3}\n"
     ]
    }
   ],
   "source": [
    "set1 = {1, 2, 3}\n",
    "set2 = {3, 4, 5}\n",
    "intersection_set = set1.intersection(set2)\n",
    "print(intersection_set)\n",
    "intersection_set2 = set1 & set2\n",
    "print(intersection_set2)"
   ]
  },
  {
   "cell_type": "code",
   "execution_count": 97,
   "metadata": {},
   "outputs": [
    {
     "name": "stdout",
     "output_type": "stream",
     "text": [
      "{1, 2}\n",
      "{1, 2}\n",
      "{4, 5}\n",
      "{4, 5}\n"
     ]
    }
   ],
   "source": [
    "set1 = {1, 2, 3}\n",
    "set2 = {3, 4, 5}\n",
    "difference_set = set1.difference(set2)\n",
    "print(difference_set)\n",
    "difference_set2 = set1 - set2\n",
    "print(difference_set2)\n",
    "difference_set3 = set2.difference(set1)\n",
    "print(difference_set3)\n",
    "difference_set4 = set2 - set1\n",
    "print(difference_set4)"
   ]
  },
  {
   "cell_type": "code",
   "execution_count": 98,
   "metadata": {},
   "outputs": [
    {
     "name": "stdout",
     "output_type": "stream",
     "text": [
      "True\n"
     ]
    }
   ],
   "source": [
    "set1 = {1, 2, 3}\n",
    "set2 = {1, 2, 3, 4, 5}\n",
    "is_subset = set1.issubset(set2)\n",
    "print(is_subset)"
   ]
  },
  {
   "cell_type": "code",
   "execution_count": 99,
   "metadata": {},
   "outputs": [
    {
     "name": "stdout",
     "output_type": "stream",
     "text": [
      "True\n"
     ]
    }
   ],
   "source": [
    "set1 = {1, 2, 3, 4, 5}\n",
    "set2 = {1, 2, 3}\n",
    "is_superset = set1.issuperset(set2)\n",
    "print(is_superset)\n"
   ]
  },
  {
   "cell_type": "markdown",
   "metadata": {},
   "source": [
    "## 딕셔너리"
   ]
  },
  {
   "cell_type": "code",
   "execution_count": 102,
   "metadata": {},
   "outputs": [
    {
     "name": "stdout",
     "output_type": "stream",
     "text": [
      "{'name': 'Alice', 'age': 30, 'city': 'New York'}\n"
     ]
    },
    {
     "data": {
      "text/plain": [
       "dict"
      ]
     },
     "execution_count": 102,
     "metadata": {},
     "output_type": "execute_result"
    }
   ],
   "source": [
    "my_dict = {\"name\": \"Alice\", \"age\": 30, \"city\": \"New York\"}\n",
    "print(my_dict)\n",
    "type(my_dict)"
   ]
  },
  {
   "cell_type": "code",
   "execution_count": 103,
   "metadata": {},
   "outputs": [
    {
     "name": "stdout",
     "output_type": "stream",
     "text": [
      "Alice\n",
      "30\n"
     ]
    }
   ],
   "source": [
    "my_dict = {\"name\": \"Alice\", \"age\": 30, \"city\": \"New York\"}\n",
    "name = my_dict[\"name\"]  # \"Alice\"\n",
    "print(name)\n",
    "age = my_dict[\"age\"]    # 30\n",
    "print(age)"
   ]
  },
  {
   "cell_type": "code",
   "execution_count": 104,
   "metadata": {},
   "outputs": [
    {
     "name": "stdout",
     "output_type": "stream",
     "text": [
      "30\n",
      "31\n"
     ]
    }
   ],
   "source": [
    "my_dict = {\"name\": \"Alice\", \"age\": 30, \"city\": \"New York\"}\n",
    "print(my_dict[\"age\"] )\n",
    "my_dict[\"age\"] = 31  # 나이 수정\n",
    "print(my_dict[\"age\"] )"
   ]
  },
  {
   "cell_type": "code",
   "execution_count": 105,
   "metadata": {},
   "outputs": [
    {
     "name": "stdout",
     "output_type": "stream",
     "text": [
      "{'name': 'Alice', 'age': 30, 'city': 'New York'}\n",
      "{'name': 'Alice', 'age': 30, 'city': 'New York', 'job': 'Engineer'}\n"
     ]
    }
   ],
   "source": [
    "my_dict = {\"name\": \"Alice\", \"age\": 30, \"city\": \"New York\"}\n",
    "print(my_dict)\n",
    "my_dict[\"job\"] = \"Engineer\"  # 직업 추가\n",
    "print(my_dict)"
   ]
  },
  {
   "cell_type": "code",
   "execution_count": 106,
   "metadata": {},
   "outputs": [
    {
     "name": "stdout",
     "output_type": "stream",
     "text": [
      "{'name': 'Alice', 'age': 30, 'city': 'New York'}\n",
      "{'name': 'Alice', 'age': 30}\n"
     ]
    }
   ],
   "source": [
    "my_dict = {\"name\": \"Alice\", \"age\": 30, \"city\": \"New York\"}\n",
    "print(my_dict)\n",
    "del my_dict[\"city\"]  # \"city\" 키-값 쌍 제거\n",
    "print(my_dict)"
   ]
  },
  {
   "cell_type": "code",
   "execution_count": 107,
   "metadata": {},
   "outputs": [
    {
     "name": "stdout",
     "output_type": "stream",
     "text": [
      "name : Alice\n",
      "age : 30\n",
      "city : New York\n"
     ]
    }
   ],
   "source": [
    "my_dict = {\"name\": \"Alice\", \"age\": 30, \"city\": \"New York\"}\n",
    "for key, value in my_dict.items():\n",
    "    print(key, \":\", value)"
   ]
  },
  {
   "cell_type": "code",
   "execution_count": 110,
   "metadata": {},
   "outputs": [
    {
     "name": "stdout",
     "output_type": "stream",
     "text": [
      "{'name': 'Alice', 'age': 30, 'city': 'New York'}\n",
      "dict_keys(['name', 'age', 'city'])\n",
      "<class 'dict_keys'>\n",
      "dict_values(['Alice', 30, 'New York'])\n",
      "<class 'dict_values'>\n"
     ]
    }
   ],
   "source": [
    "my_dict = {\"name\": \"Alice\", \"age\": 30, \"city\": \"New York\"}\n",
    "print(my_dict)\n",
    "keys = my_dict.keys()    \n",
    "print(keys)\n",
    "print(type(keys))\n",
    "values = my_dict.values()  \n",
    "print(values)\n",
    "print(type(values))"
   ]
  },
  {
   "cell_type": "markdown",
   "metadata": {},
   "source": [
    "### 딕셔너리의 함수\n",
    "\n",
    "| 함수 이름          | 설명                                     | 예제                                                |\n",
    "|--------------------|------------------------------------------|-----------------------------------------------------|\n",
    "| `keys()`           | 딕셔너리의 모든 키를 리스트로 반환합니다. | `my_dict = {\"name\": \"Alice\", \"age\": 30}`<br> `keys = my_dict.keys()` 결과: `[\"name\", \"age\"]` |\n",
    "| `values()`         | 딕셔너리의 모든 값을 리스트로 반환합니다. | `my_dict = {\"name\": \"Alice\", \"age\": 30}`<br> `values = my_dict.values()` 결과: `[\"Alice\", 30]` |\n",
    "| `items()`          | 딕셔너리의 모든 키-값 쌍을 튜플로 반환합니다. | `my_dict = {\"name\": \"Alice\", \"age\": 30}`<br> `items = my_dict.items()` 결과: `[(\"name\", \"Alice\"), (\"age\", 30)]` |\n",
    "| `get(key, default)` | 주어진 키의 값을 반환하며, 키가 존재하지 않으면 기본값을 반환합니다. | `my_dict = {\"name\": \"Alice\", \"age\": 30}`<br> `value = my_dict.get(\"name\", \"Unknown\")` 결과: `\"Alice\"`<br> `value = my_dict.get(\"country\", \"Unknown\")` 결과: `\"Unknown\"` |\n",
    "| `pop(key)`         | 주어진 키와 연결된 값을 반환하고, 그 키-값 쌍을 딕셔너리에서 제거합니다. | `my_dict = {\"name\": \"Alice\", \"age\": 30}`<br> `value = my_dict.pop(\"age\")` 결과: `30`<br> `my_dict`는 이제 `{\"name\": \"Alice\"}` |\n",
    "| `popitem()`        | 무작위 키-값 쌍을 반환하고, 해당 쌍을 딕셔너리에서 제거합니다. | `my_dict = {\"name\": \"Alice\", \"age\": 30}`<br> `item = my_dict.popitem()` 결과: 무작위 키-값 쌍<br> `my_dict`는 이제 한 항목이 덜어진 상태 |\n",
    "| `update(other_dict)` | 다른 딕셔너리의 키-값 쌍을 현재 딕셔너리에 추가 또는 업데이트합니다. | `my_dict = {\"name\": \"Alice\", \"age\": 30}`<br> `other_dict = {\"city\": \"New York\", \"age\": 31}`<br> `my_dict.update(other_dict)`<br> 결과: `my_dict`는 `{\"name\": \"Alice\", \"age\": 31, \"city\": \"New York\"}` |\n",
    "| `clear()`          | 딕셔너리의 모든 키-값 쌍을 제거합니다. | `my_dict = {\"name\": \"Alice\", \"age\": 30}`<br> `my_dict.clear()` 결과: `{}` |\n"
   ]
  },
  {
   "cell_type": "code",
   "execution_count": 111,
   "metadata": {},
   "outputs": [
    {
     "name": "stdout",
     "output_type": "stream",
     "text": [
      "Alice\n",
      "Unknown\n"
     ]
    }
   ],
   "source": [
    "my_dict = {\"name\": \"Alice\", \"age\": 30}\n",
    "value = my_dict.get(\"name\", \"Unknown\")\n",
    "print(value)\n",
    "value = my_dict.get(\"country\", \"Unknown\")\n",
    "print(value)"
   ]
  },
  {
   "cell_type": "code",
   "execution_count": 112,
   "metadata": {},
   "outputs": [
    {
     "name": "stdout",
     "output_type": "stream",
     "text": [
      "{'name': 'Alice', 'age': 30}\n",
      "30\n",
      "{'name': 'Alice'}\n"
     ]
    }
   ],
   "source": [
    "my_dict = {\"name\": \"Alice\", \"age\": 30}\n",
    "print(my_dict)\n",
    "value = my_dict.pop(\"age\")\n",
    "print(value)\n",
    "print(my_dict)\n",
    "\n"
   ]
  },
  {
   "cell_type": "code",
   "execution_count": 117,
   "metadata": {},
   "outputs": [
    {
     "name": "stdout",
     "output_type": "stream",
     "text": [
      "{'name': 'Alice', 'age': 30}\n",
      "('age', 30)\n",
      "{'name': 'Alice'}\n"
     ]
    }
   ],
   "source": [
    "my_dict = {\"name\": \"Alice\", \"age\": 30}\n",
    "print(my_dict)\n",
    "item = my_dict.popitem()\n",
    "print(item)\n",
    "print(my_dict)\n"
   ]
  },
  {
   "cell_type": "code",
   "execution_count": 118,
   "metadata": {},
   "outputs": [
    {
     "name": "stdout",
     "output_type": "stream",
     "text": [
      "{'name': 'Alice', 'age': 30}\n",
      "{'city': 'New York', 'age': 31}\n",
      "{'name': 'Alice', 'age': 31, 'city': 'New York'}\n",
      "{'city': 'New York', 'age': 31}\n"
     ]
    }
   ],
   "source": [
    "my_dict = {\"name\": \"Alice\", \"age\": 30}\n",
    "other_dict = {\"city\": \"New York\", \"age\": 31}\n",
    "print(my_dict)\n",
    "print(other_dict)\n",
    "my_dict.update(other_dict)\n",
    "print(my_dict)\n",
    "print(other_dict)"
   ]
  },
  {
   "cell_type": "code",
   "execution_count": null,
   "metadata": {},
   "outputs": [],
   "source": []
  },
  {
   "cell_type": "code",
   "execution_count": null,
   "metadata": {},
   "outputs": [],
   "source": []
  }
 ],
 "metadata": {
  "kernelspec": {
   "display_name": "Python 3",
   "language": "python",
   "name": "python3"
  },
  "language_info": {
   "codemirror_mode": {
    "name": "ipython",
    "version": 3
   },
   "file_extension": ".py",
   "mimetype": "text/x-python",
   "name": "python",
   "nbconvert_exporter": "python",
   "pygments_lexer": "ipython3",
   "version": "3.12.0"
  }
 },
 "nbformat": 4,
 "nbformat_minor": 2
}
