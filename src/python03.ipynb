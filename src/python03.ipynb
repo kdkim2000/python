{
 "cells": [
  {
   "cell_type": "markdown",
   "metadata": {},
   "source": [
    "## 함수"
   ]
  },
  {
   "cell_type": "code",
   "execution_count": 1,
   "metadata": {},
   "outputs": [],
   "source": [
    "def 인사(name):\n",
    "    print(\"안녕하세요, \" + name + \"!\")"
   ]
  },
  {
   "cell_type": "code",
   "execution_count": 2,
   "metadata": {},
   "outputs": [
    {
     "name": "stdout",
     "output_type": "stream",
     "text": [
      "안녕하세요, Alice!\n",
      "안녕하세요, Bob!\n"
     ]
    }
   ],
   "source": [
    "인사(\"Alice\")\n",
    "인사(\"Bob\")"
   ]
  },
  {
   "cell_type": "code",
   "execution_count": 3,
   "metadata": {},
   "outputs": [
    {
     "data": {
      "text/plain": [
       "8"
      ]
     },
     "execution_count": 3,
     "metadata": {},
     "output_type": "execute_result"
    }
   ],
   "source": [
    "def 더하기(a, b):\n",
    "    return a + b\n",
    "\n",
    "결과 = 더하기(3, 5)\n",
    "결과"
   ]
  },
  {
   "cell_type": "code",
   "execution_count": 4,
   "metadata": {},
   "outputs": [
    {
     "name": "stdout",
     "output_type": "stream",
     "text": [
      "4의 제곱: 16\n"
     ]
    }
   ],
   "source": [
    "def 제곱(x):\n",
    "    return x ** 2\n",
    "\n",
    "결과 = 제곱(4)\n",
    "print(\"4의 제곱:\", 결과)"
   ]
  },
  {
   "cell_type": "code",
   "execution_count": 5,
   "metadata": {},
   "outputs": [
    {
     "name": "stdout",
     "output_type": "stream",
     "text": [
      "안녕하세요, 손님!\n",
      "안녕하세요, Alice!\n"
     ]
    }
   ],
   "source": [
    "def 인사(name=\"손님\"):\n",
    "    print(\"안녕하세요, \" + name + \"!\")\n",
    "\n",
    "인사()\n",
    "인사(\"Alice\")"
   ]
  },
  {
   "cell_type": "code",
   "execution_count": 7,
   "metadata": {},
   "outputs": [
    {
     "name": "stdout",
     "output_type": "stream",
     "text": [
      "함수안 10\n",
      "함수밖 20\n"
     ]
    }
   ],
   "source": [
    "def 내_함수():\n",
    "    x = 10\n",
    "    print(\"함수안\",x)\n",
    "\n",
    "x = 20\n",
    "내_함수()\n",
    "print(\"함수밖\",x)  # 'x'는 이 범위에서 정의되지 않았으므로 오류가 발생합니다."
   ]
  },
  {
   "cell_type": "markdown",
   "metadata": {},
   "source": [
    "## 파일 입출력"
   ]
  },
  {
   "cell_type": "markdown",
   "metadata": {},
   "source": [
    "| 모드    | 설명                                                        |\n",
    "| ---------| ----------------------------------------------------------|\n",
    "| `'r'`   | 읽기 모드 (기본값). 파일을 읽기 전용으로 엽니다.            |\n",
    "| `'w'`   | 쓰기 모드. 파일을 쓰기 전용으로 엽니다. 파일이 이미 존재하면 덮어쓰고, 없으면 새로 생성합니다.       |\n",
    "| `'a'`   | 추가 모드. 파일을 쓰기 전용으로 엽니다. 파일이 이미 존재하면 파일 끝에 내용을 추가하고, 없으면 새로 생성합니다.      |\n",
    "| `'x'`   | 생성 모드. 파일을 쓰기 전용으로 엽니다. 파일이 이미 존재하면 오류가 발생합니다.       |\n",
    "| `'b'`   | 이진 모드. 파일을 바이너리 모드로 엽니다. (예: `'rb'`, `'wb'`)       |\n",
    "| `'t'`   | 텍스트 모드 (기본값). 파일을 텍스트 모드로 엽니다. (예: `'rt'`, `'wt'`)       |\n",
    "| `'+'`   | 읽기/쓰기 모드. 파일을 동시에 읽고 쓸 수 있도록 엽니다. (예: `'r+'`, `'w+'`, `'a+'`)       |\n"
   ]
  },
  {
   "cell_type": "code",
   "execution_count": 33,
   "metadata": {},
   "outputs": [
    {
     "name": "stdout",
     "output_type": "stream",
     "text": [
      "안녕, 파일 입출력!\n",
      "새로운 내용을 추가합니다.\n"
     ]
    }
   ],
   "source": [
    "# 파일을 읽기 모드로 열기\n",
    "file = open(\"example.txt\", \"r\", encoding=\"utf-8\")\n",
    "# 파일 읽기\n",
    "content = file.read()\n",
    "print(content)\n",
    "# 파일 닫기\n",
    "file.close()"
   ]
  },
  {
   "cell_type": "code",
   "execution_count": 30,
   "metadata": {},
   "outputs": [],
   "source": [
    "# 파일을 쓰기 모드로 열기\n",
    "file = open(\"example.txt\", \"w\", encoding=\"utf-8\")\n",
    "\n",
    "# 파일에 쓰기\n",
    "file.write(\"안녕, 파일 입출력!\")\n",
    "\n",
    "# 파일 닫기\n",
    "file.close()"
   ]
  },
  {
   "cell_type": "code",
   "execution_count": 37,
   "metadata": {},
   "outputs": [],
   "source": [
    "# 파일을 추가 모드로 열기\n",
    "file = open(\"example.txt\", \"a\", encoding=\"utf-8\")\n",
    "\n",
    "# 파일에 내용 추가\n",
    "file.write(\"\\n새로운 내용을 추가합니다.\")\n",
    "\n",
    "# 파일 닫기\n",
    "file.close()"
   ]
  },
  {
   "cell_type": "code",
   "execution_count": 50,
   "metadata": {},
   "outputs": [
    {
     "ename": "FileExistsError",
     "evalue": "[Errno 17] File exists: 'example2.txt'",
     "output_type": "error",
     "traceback": [
      "\u001b[1;31m---------------------------------------------------------------------------\u001b[0m",
      "\u001b[1;31mFileExistsError\u001b[0m                           Traceback (most recent call last)",
      "\u001b[1;32mc:\\JAKorea2\\python\\src\\python03.ipynb Cell 13\u001b[0m line \u001b[0;36m2\n\u001b[0;32m      <a href='vscode-notebook-cell:/c%3A/JAKorea2/python/src/python03.ipynb#X21sZmlsZQ%3D%3D?line=0'>1</a>\u001b[0m \u001b[39m# 파일을 쓰기 모드로 열기\u001b[39;00m\n\u001b[1;32m----> <a href='vscode-notebook-cell:/c%3A/JAKorea2/python/src/python03.ipynb#X21sZmlsZQ%3D%3D?line=1'>2</a>\u001b[0m file \u001b[39m=\u001b[39m \u001b[39mopen\u001b[39;49m(\u001b[39m\"\u001b[39;49m\u001b[39mexample2.txt\u001b[39;49m\u001b[39m\"\u001b[39;49m, \u001b[39m\"\u001b[39;49m\u001b[39mx\u001b[39;49m\u001b[39m\"\u001b[39;49m, encoding\u001b[39m=\u001b[39;49m\u001b[39m\"\u001b[39;49m\u001b[39mutf-8\u001b[39;49m\u001b[39m\"\u001b[39;49m)\n\u001b[0;32m      <a href='vscode-notebook-cell:/c%3A/JAKorea2/python/src/python03.ipynb#X21sZmlsZQ%3D%3D?line=3'>4</a>\u001b[0m \u001b[39m# 파일에 쓰기\u001b[39;00m\n\u001b[0;32m      <a href='vscode-notebook-cell:/c%3A/JAKorea2/python/src/python03.ipynb#X21sZmlsZQ%3D%3D?line=4'>5</a>\u001b[0m file\u001b[39m.\u001b[39mwrite(\u001b[39m\"\u001b[39m\u001b[39m안녕, 파일 입출력!\u001b[39m\u001b[39m\"\u001b[39m)\n",
      "File \u001b[1;32m~\\AppData\\Roaming\\Python\\Python312\\site-packages\\IPython\\core\\interactiveshell.py:286\u001b[0m, in \u001b[0;36m_modified_open\u001b[1;34m(file, *args, **kwargs)\u001b[0m\n\u001b[0;32m    279\u001b[0m \u001b[39mif\u001b[39;00m file \u001b[39min\u001b[39;00m {\u001b[39m0\u001b[39m, \u001b[39m1\u001b[39m, \u001b[39m2\u001b[39m}:\n\u001b[0;32m    280\u001b[0m     \u001b[39mraise\u001b[39;00m \u001b[39mValueError\u001b[39;00m(\n\u001b[0;32m    281\u001b[0m         \u001b[39mf\u001b[39m\u001b[39m\"\u001b[39m\u001b[39mIPython won\u001b[39m\u001b[39m'\u001b[39m\u001b[39mt let you open fd=\u001b[39m\u001b[39m{\u001b[39;00mfile\u001b[39m}\u001b[39;00m\u001b[39m by default \u001b[39m\u001b[39m\"\u001b[39m\n\u001b[0;32m    282\u001b[0m         \u001b[39m\"\u001b[39m\u001b[39mas it is likely to crash IPython. If you know what you are doing, \u001b[39m\u001b[39m\"\u001b[39m\n\u001b[0;32m    283\u001b[0m         \u001b[39m\"\u001b[39m\u001b[39myou can use builtins\u001b[39m\u001b[39m'\u001b[39m\u001b[39m open.\u001b[39m\u001b[39m\"\u001b[39m\n\u001b[0;32m    284\u001b[0m     )\n\u001b[1;32m--> 286\u001b[0m \u001b[39mreturn\u001b[39;00m io_open(file, \u001b[39m*\u001b[39;49margs, \u001b[39m*\u001b[39;49m\u001b[39m*\u001b[39;49mkwargs)\n",
      "\u001b[1;31mFileExistsError\u001b[0m: [Errno 17] File exists: 'example2.txt'"
     ]
    }
   ],
   "source": [
    "# 파일을 쓰기 모드로 열기\n",
    "file = open(\"example2.txt\", \"x\", encoding=\"utf-8\")\n",
    "\n",
    "# 파일에 쓰기\n",
    "file.write(\"안녕, 파일 입출력!\")\n",
    "\n",
    "# 파일 닫기\n",
    "file.close()"
   ]
  },
  {
   "cell_type": "code",
   "execution_count": 39,
   "metadata": {},
   "outputs": [
    {
     "name": "stdout",
     "output_type": "stream",
     "text": [
      "안녕, 파일 입출력!\n",
      "\n",
      "새로운 내용을 추가합니다.\n",
      "\n",
      "새로운 내용을 추가합니다.\n",
      "\n",
      "새로운 내용을 추가합니다.\n"
     ]
    }
   ],
   "source": [
    "file = open(\"example.txt\", 'r', encoding=\"utf-8\")\n",
    "while True:\n",
    "    line = file.readline()\n",
    "    if not line: \n",
    "        break\n",
    "    print(line)\n",
    "file.close()"
   ]
  },
  {
   "cell_type": "markdown",
   "metadata": {},
   "source": [
    "## 파이썬의 예외처리"
   ]
  },
  {
   "cell_type": "code",
   "execution_count": 43,
   "metadata": {},
   "outputs": [
    {
     "name": "stdout",
     "output_type": "stream",
     "text": [
      "올바른 숫자를 입력하세요.\n"
     ]
    }
   ],
   "source": [
    "try:\n",
    "    number = int(input(\"정수를 입력하세요: \"))\n",
    "    result = 10 / number\n",
    "    print(\"결과:\", result)\n",
    "except ZeroDivisionError:\n",
    "    print(\"0으로 나눌 수 없습니다.\")\n",
    "except ValueError:\n",
    "    print(\"올바른 숫자를 입력하세요.\")"
   ]
  },
  {
   "cell_type": "code",
   "execution_count": 44,
   "metadata": {},
   "outputs": [
    {
     "ename": "ValueError",
     "evalue": "invalid literal for int() with base 10: 'skajlfajslfj'",
     "output_type": "error",
     "traceback": [
      "\u001b[1;31m---------------------------------------------------------------------------\u001b[0m",
      "\u001b[1;31mValueError\u001b[0m                                Traceback (most recent call last)",
      "\u001b[1;32mc:\\JAKorea2\\python\\src\\python03.ipynb Cell 17\u001b[0m line \u001b[0;36m1\n\u001b[1;32m----> <a href='vscode-notebook-cell:/c%3A/JAKorea2/python/src/python03.ipynb#X30sZmlsZQ%3D%3D?line=0'>1</a>\u001b[0m number \u001b[39m=\u001b[39m \u001b[39mint\u001b[39;49m(\u001b[39minput\u001b[39;49m(\u001b[39m\"\u001b[39;49m\u001b[39m정수를 입력하세요: \u001b[39;49m\u001b[39m\"\u001b[39;49m))\n\u001b[0;32m      <a href='vscode-notebook-cell:/c%3A/JAKorea2/python/src/python03.ipynb#X30sZmlsZQ%3D%3D?line=1'>2</a>\u001b[0m result \u001b[39m=\u001b[39m \u001b[39m10\u001b[39m \u001b[39m/\u001b[39m number\n\u001b[0;32m      <a href='vscode-notebook-cell:/c%3A/JAKorea2/python/src/python03.ipynb#X30sZmlsZQ%3D%3D?line=2'>3</a>\u001b[0m \u001b[39mprint\u001b[39m(\u001b[39m\"\u001b[39m\u001b[39m결과:\u001b[39m\u001b[39m\"\u001b[39m, result)\n",
      "\u001b[1;31mValueError\u001b[0m: invalid literal for int() with base 10: 'skajlfajslfj'"
     ]
    }
   ],
   "source": [
    "number = int(input(\"정수를 입력하세요: \"))\n",
    "result = 10 / number\n",
    "print(\"결과:\", result)"
   ]
  },
  {
   "cell_type": "code",
   "execution_count": 51,
   "metadata": {},
   "outputs": [
    {
     "name": "stdout",
     "output_type": "stream",
     "text": [
      "올바른 숫자를 입력하세요.\n"
     ]
    }
   ],
   "source": [
    "try:\n",
    "    number = int(input(\"정수를 입력하세요: \"))\n",
    "    result = 10 / number\n",
    "    print(\"결과:\", result)\n",
    "except ZeroDivisionError:\n",
    "    print(\"0으로 나눌 수 없습니다.\")\n",
    "except ValueError:\n",
    "    print(\"올바른 숫자를 입력하세요.\")\n",
    "except Exception as e:\n",
    "    print(\"알 수 없는 예외가 발생했습니다:\", e)"
   ]
  },
  {
   "cell_type": "code",
   "execution_count": 59,
   "metadata": {},
   "outputs": [
    {
     "name": "stdout",
     "output_type": "stream",
     "text": [
      "알 수 없는 예외가 발생했습니다: [Errno 17] File exists: 'example2.txt'\n"
     ]
    }
   ],
   "source": [
    "try:\n",
    "    # 파일을 쓰기 모드로 열기\n",
    "    file = open(\"example2.txt\", \"x\")\n",
    "    # 파일에 쓰기\n",
    "    file.write(\"안녕, 파일 입출력!\")\n",
    "    # 파일 닫기\n",
    "    file.close()\n",
    "except Exception as e:\n",
    "    print(\"알 수 없는 예외가 발생했습니다:\", e)"
   ]
  },
  {
   "cell_type": "code",
   "execution_count": 62,
   "metadata": {},
   "outputs": [
    {
     "name": "stdout",
     "output_type": "stream",
     "text": [
      "예외가 발생하지 않았습니다. 결과: 3.3333333333333335\n",
      "예외 처리가 완료되었습니다.\n"
     ]
    }
   ],
   "source": [
    "try:\n",
    "    number = int(input(\"정수를 입력하세요: \"))\n",
    "    result = 10 / number\n",
    "except ZeroDivisionError:\n",
    "    print(\"0으로 나눌 수 없습니다.\")\n",
    "except ValueError:\n",
    "    print(\"올바른 숫자를 입력하세요.\")\n",
    "else:\n",
    "    print(\"예외가 발생하지 않았습니다. 결과:\", result)\n",
    "finally:\n",
    "    print(\"예외 처리가 완료되었습니다.\")"
   ]
  },
  {
   "cell_type": "markdown",
   "metadata": {},
   "source": [
    "| 예외 종류                   | 설명                                                         |\n",
    "| ------------------------- | ------------------------------------------------------------ |\n",
    "| `Exception`               | 모든 예외의 기본 클래스입니다.                             |\n",
    "| `SyntaxError`             | 문법 오류가 발생했을 때 발생합니다.                         |\n",
    "| `IndentationError`        | 들여쓰기 오류가 발생했을 때 발생합니다.                     |\n",
    "| `NameError`               | 정의되지 않은 변수나 함수를 사용했을 때 발생합니다.         |\n",
    "| `TypeError`               | 데이터 유형이 예상과 다른 연산을 수행하려고 시도했을 때 발생합니다. |\n",
    "| `ValueError`              | 데이터 유형은 올바르지만 값이 적절하지 않을 때 발생합니다. |\n",
    "| `ZeroDivisionError`       | 0으로 나누려고 시도했을 때 발생합니다.                    |\n",
    "| `IndexError`              | 존재하지 않는 인덱스를 사용하려고 시도했을 때 발생합니다. |\n",
    "| `KeyError`                | 존재하지 않는 딕셔너리 키를 사용하려고 시도했을 때 발생합니다. |\n",
    "| `FileNotFoundError`       | 파일을 찾을 수 없을 때 발생합니다.                         |\n",
    "| `IOError`                 | 파일 입출력과 관련된 오류입니다.                            |\n",
    "| `OSError`                 | 운영 체제와 관련된 오류입니다.                             |\n",
    "| `AttributeError`          | 존재하지 않는 속성을 객체에서 참조하려고 시도했을 때 발생합니다. |\n",
    "| `ImportError`             | 모듈을 가져오지 못하는 오류입니다.                         |\n",
    "| `ModuleNotFoundError`     | 모듈을 찾을 수 없을 때 발생합니다.                         |\n",
    "| `KeyboardInterrupt`       | 사용자가 프로그램 실행을 중단시키는 KeyboardInterrupt 예외입니다. |\n"
   ]
  },
  {
   "cell_type": "code",
   "execution_count": null,
   "metadata": {},
   "outputs": [],
   "source": []
  },
  {
   "cell_type": "code",
   "execution_count": null,
   "metadata": {},
   "outputs": [],
   "source": []
  }
 ],
 "metadata": {
  "kernelspec": {
   "display_name": "Python 3",
   "language": "python",
   "name": "python3"
  },
  "language_info": {
   "codemirror_mode": {
    "name": "ipython",
    "version": 3
   },
   "file_extension": ".py",
   "mimetype": "text/x-python",
   "name": "python",
   "nbconvert_exporter": "python",
   "pygments_lexer": "ipython3",
   "version": "3.12.0"
  }
 },
 "nbformat": 4,
 "nbformat_minor": 2
}
