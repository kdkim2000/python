{
 "cells": [
  {
   "cell_type": "markdown",
   "metadata": {},
   "source": [
    "## 클래스"
   ]
  },
  {
   "cell_type": "markdown",
   "metadata": {},
   "source": [
    "### 클래스란 무엇인가요?\n",
    "\n",
    "클래스는 컴퓨터 프로그램을 만들 때 사용하는 설계 도면과 같아요. 이 도면에는 무엇을 만들어야 하는지, 어떤 기능이 있어야 하는지에 대한 정보가 담겨 있어요. 예를 들어, 만약 자동차를 만든다면, 자동차 클래스에는 바퀴, 엔진, 핸들과 같은 특징과 기능이 정의돼 있겠죠.\n",
    "\n",
    "### 객체는 뭐에요?\n",
    "\n",
    "클래스를 사용하여 실제로 무언가를 만들면 그것을 \"객체\"라고 부릅니다. 클래스는 설계 도면이고, 객체는 실제로 그 도면을 사용하여 만든 자동차나 컴퓨터와 같은 물건이에요. 예를 들어, 자동차 클래스를 사용해 \"내 자동차\"라는 객체를 만들면, 그 객체에는 내 자동차에 대한 정보와 기능이 들어 있겠죠.\n",
    "\n",
    "#### 예시: 자동차 클래스\n",
    "\n",
    "이제 간단한 예시를 보겠습니다. 우리가 만들 자동차 클래스에는 다음과 같은 것들이 들어 있을 수 있어요:\n",
    "\n",
    "- 속성 (Attributes): 자동차의 색상, 브랜드, 속도와 같은 특징.\n",
    "- 메서드 (Methods): 자동차의 주행, 브레이크, 경적과 같은 행동.\n",
    "\n",
    "자동차 클래스로부터 객체를 만들면, 그 객체는 실제로 그 자동차에 대한 정보와 기능을 갖게 됩니다. 예를 들어, \"내 자동차\" 객체를 만들면 그 객체는 내 자동차의 색상이나 주행하는 방법과 같은 정보와 기능을 가지게 되는 거에요."
   ]
  },
  {
   "cell_type": "code",
   "execution_count": 4,
   "metadata": {},
   "outputs": [
    {
     "name": "stdout",
     "output_type": "stream",
     "text": [
      "내 개의 이름은 Buddy이고, 종은 골든 리트리버입니다.\n",
      "내 개의 이름은 뽀삐이고, 종은 푸들입니다.\n"
     ]
    }
   ],
   "source": [
    "# 클래스 정의\n",
    "class Dog:\n",
    "    def __init__(self, name, breed):\n",
    "        self.name = name\n",
    "        self.breed = breed\n",
    "\n",
    "# 클래스로부터 객체 생성\n",
    "my_dog = Dog(\"Buddy\", \"골든 리트리버\")\n",
    "\n",
    "# 객체 속성에 접근\n",
    "print(f\"내 개의 이름은 {my_dog.name}이고, 종은 {my_dog.breed}입니다.\")\n",
    "\n",
    "my_dog2 = Dog(\"뽀삐\", \"푸들\")\n",
    "print(f\"내 개의 이름은 {my_dog2.name}이고, 종은 {my_dog2.breed}입니다.\")"
   ]
  },
  {
   "cell_type": "code",
   "execution_count": 14,
   "metadata": {},
   "outputs": [
    {
     "name": "stdout",
     "output_type": "stream",
     "text": [
      "반지름 5인 원의 면적은 78.5입니다.\n",
      "반지름 5인 원의 둘레의 길이는 31.400000000000002입니다.\n",
      "반지름 10인 원의 면적은 314.0입니다.\n",
      "반지름 10인 원의 둘레의 길이는 62.800000000000004입니다.\n"
     ]
    }
   ],
   "source": [
    "class Circle:\n",
    "    def __init__(self, radius):\n",
    "        self.radius = radius\n",
    "\n",
    "    def area(self):\n",
    "        return 3.14 * self.radius**2\n",
    "\n",
    "    def length(self):\n",
    "        return ( 3.14 * self.radius * 2 )\n",
    "    \n",
    "\n",
    "my_circle = Circle(5)\n",
    "\n",
    "print(f\"반지름 {my_circle.radius}인 원의 면적은 {my_circle.area()}입니다.\")\n",
    "\n",
    "print(f\"반지름 {my_circle.radius}인 원의 둘레의 길이는 {my_circle.length()}입니다.\")\n",
    "\n",
    "my_circle2 = Circle(10)\n",
    "\n",
    "print(f\"반지름 {my_circle2.radius}인 원의 면적은 {my_circle2.area()}입니다.\")\n",
    "\n",
    "print(f\"반지름 {my_circle2.radius}인 원의 둘레의 길이는 {my_circle2.length()}입니다.\")\n"
   ]
  },
  {
   "cell_type": "code",
   "execution_count": 13,
   "metadata": {},
   "outputs": [
    {
     "name": "stdout",
     "output_type": "stream",
     "text": [
      "Buddy이 왈왈하고 짖어요!\n",
      "Whiskers이 야옹하고 울어요!\n"
     ]
    }
   ],
   "source": [
    "class Animal:\n",
    "    def __init__(self, name):\n",
    "        self.name = name\n",
    "\n",
    "    def speak(self):\n",
    "        pass  # 이 메서드는 하위 클래스에서 오버라이드될 것입니다\n",
    "\n",
    "class Dog(Animal):\n",
    "    def speak(self):\n",
    "        return f\"{self.name}이 왈왈하고 짖어요!\"\n",
    "\n",
    "class Cat(Animal):\n",
    "    def speak(self):\n",
    "        return f\"{self.name}이 야옹하고 울어요!\"\n",
    "\n",
    "my_dog = Dog(\"Buddy\")\n",
    "my_cat = Cat(\"Whiskers\")\n",
    "\n",
    "print(my_dog.speak())  # 출력: \"Buddy이 왈왈하고 짖어요!\"\n",
    "print(my_cat.speak())  # 출력: \"Whiskers이 야옹하고 울어요!\"\n"
   ]
  },
  {
   "cell_type": "markdown",
   "metadata": {},
   "source": [
    "## 모듈\n",
    "\n",
    "### 1. 모듈이란 무엇인가요?\n",
    "\n",
    "모듈은 파이썬에서 코드를 구성하고 정리하는 방법입니다. 모듈은 함수, 변수, 클래스 등을 담은 파일이라고 생각할 수 있어요. 이렇게 모듈을 사용하면 코드를 더 쉽게 관리하고 재사용할 수 있습니다."
   ]
  },
  {
   "cell_type": "code",
   "execution_count": 15,
   "metadata": {},
   "outputs": [
    {
     "name": "stdout",
     "output_type": "stream",
     "text": [
      "25의 제곱근은 5.0입니다.\n"
     ]
    }
   ],
   "source": [
    "import math  # math 모듈을 임포트합니다.\n",
    "\n",
    "# math 모듈의 함수를 사용합니다.\n",
    "result = math.sqrt(25)  # 제곱근을 계산합니다.\n",
    "print(f\"25의 제곱근은 {result}입니다.\")\n"
   ]
  },
  {
   "cell_type": "markdown",
   "metadata": {},
   "source": [
    "| 모듈 이름   | 설명                                                             |\n",
    "| ----------- | ---------------------------------------------------------------- |\n",
    "| `math`      | 수학 관련 함수와 상수를 제공합니다. 삼각함수, 로그, 지수 함수, 제곱근 등을 계산하는 데 사용됩니다. |\n",
    "| `random`    | 난수 생성 및 무작위 데이터를 다루는 함수를 제공합니다. 난수 생성, 무작위 데이터 샘플링, 리스트 셔플링 등에 사용됩니다. |\n",
    "| `datetime`  | 날짜와 시간을 다루는 함수와 객체를 제공합니다. 날짜 및 시간 계산, 형식 지정, 타임존 처리 등에 사용됩니다. |\n"
   ]
  },
  {
   "cell_type": "markdown",
   "metadata": {},
   "source": [
    "### math\n",
    "\n",
    "| 함수/상수          | 설명                                                         | 예제                   |\n",
    "| ------------------- | ------------------------------------------------------------ | ---------------------- |\n",
    "| `math.sqrt(x)`      | x의 제곱근을 반환합니다.                                      | `math.sqrt(25)`는 25의 제곱근, 즉 5를 반환합니다. |\n",
    "| `math.pow(x, y)`    | x의 y 제곱을 반환합니다.                                     | `math.pow(2, 3)`은 2의 3제곱, 즉 8을 반환합니다. |\n",
    "| `math.exp(x)`       | e^x (자연 로그의 밑) 값을 반환합니다.                         | `math.exp(1)`은 e의 1승, 즉 e (약 2.71828)을 반환합니다. |\n",
    "| `math.log(x)`       | x의 자연 로그 값을 반환합니다.                              | `math.log(10)`은 10의 자연 로그, 즉 약 2.30259를 반환합니다. |\n",
    "| `math.log10(x)`     | x의 상용 로그 (밑이 10) 값을 반환합니다.                     | `math.log10(100)`은 100의 상용 로그, 즉 2를 반환합니다. |\n",
    "| `math.sin(x)`       | x 라디안 각의 사인 값을 반환합니다.                         | `math.sin(math.radians(30))`은 30도의 사인 값, 즉 0.5를 반환합니다. |\n",
    "| `math.cos(x)`       | x 라디안 각의 코사인 값을 반환합니다.                       | `math.cos(math.radians(60))`은 60도의 코사인 값, 즉 0.5를 반환합니다. |\n",
    "| `math.tan(x)`       | x 라디안 각의 탄젠트 값을 반환합니다.                       | `math.tan(math.radians(45))`은 45도의 탄젠트 값, 즉 1을 반환합니다. |\n",
    "| `math.degrees(x)`   | 라디안 x를 도 (degree)로 변환합니다.                        | `math.degrees(math.pi)`는 π 라디안을 도로 변환하면 180도를 반환합니다. |\n",
    "| `math.radians(x)`   | 도 x를 라디안으로 변환합니다.                                | `math.radians(90)`은 90도를 라디안으로 변환하면 π/2 를 반환합니다. |\n",
    "| `math.pi`           | 원주율 (π) 상수를 나타냅니다 (약 3.141592653589793).           | `math.pi`는 원주율 π의 근사값을 반환합니다. |\n",
    "| `math.e`            | 자연 로그의 밑 (e) 상수를 나타냅니다 (약 2.718281828459045). | `math.e`는 자연 로그의 밑 e의 근사값을 반환합니다. |\n"
   ]
  },
  {
   "cell_type": "code",
   "execution_count": 21,
   "metadata": {},
   "outputs": [
    {
     "name": "stdout",
     "output_type": "stream",
     "text": [
      "3.141592653589793\n",
      "16.0\n",
      "1.4142135623730951\n"
     ]
    }
   ],
   "source": [
    "import math \n",
    "\n",
    "print(math.pi)\n",
    "print(math.pow(2,4))\n",
    "print(math.sqrt(2))"
   ]
  },
  {
   "cell_type": "markdown",
   "metadata": {},
   "source": [
    "### random"
   ]
  },
  {
   "cell_type": "markdown",
   "metadata": {},
   "source": [
    "| 함수/메서드               | 설명                                                         | 예제                   |\n",
    "| ------------------------- | ------------------------------------------------------------ | ---------------------- |\n",
    "| `random.random()`         | 0과 1 사이의 무작위 부동 소수점 숫자를 반환합니다.           | `random.random()`은 0부터 1 사이의 무작위 숫자를 반환합니다. |\n",
    "| `random.randint(a, b)`    | a 이상 b 이하의 무작위 정수를 반환합니다.                     | `random.randint(1, 6)`은 1부터 6 사이의 무작위 정수를 반환합니다. |\n",
    "| `random.choice(seq)`      | 시퀀스(리스트, 튜플 등)에서 무작위 항목을 선택합니다.        | `random.choice(['사과', '바나나', '체리'])`는 과일 리스트에서 무작위로 과일을 선택합니다. |\n",
    "| `random.shuffle(seq)`     | 시퀀스의 항목을 섞습니다.                                   | `fruits = ['사과', '바나나', '체리']`<br>`random.shuffle(fruits)`는 `fruits` 리스트를 섞습니다. |\n",
    "| `random.sample(seq, k)`   | 시퀀스에서 중복되지 않는 k개의 무작위 항목을 선택합니다.  | `random.sample([1, 2, 3, 4, 5], 3)`는 중복되지 않는 3개의 무작위 숫자를 선택합니다. |\n",
    "| `random.seed(x)`          | 무작위 수 발생을 위한 초기 시드 값을 설정합니다.          | `random.seed(42)`는 시드 값을 42로 설정합니다. |\n",
    "| `random.uniform(a, b)`    | a 이상 b 미만의 무작위 부동 소수점 숫자를 반환합니다.     | `random.uniform(1.0, 2.0)`은 1.0 이상 2.0 미만의 무작위 부동 소수점 숫자를 반환합니다. |\n"
   ]
  },
  {
   "cell_type": "code",
   "execution_count": 52,
   "metadata": {},
   "outputs": [
    {
     "name": "stdout",
     "output_type": "stream",
     "text": [
      "0.8044401135059867\n",
      "37\n",
      "사과\n",
      "['체리', '바나나', '사과']\n",
      "[4, 3]\n"
     ]
    }
   ],
   "source": [
    "import random \n",
    "\n",
    "print(random.random())\n",
    "\n",
    "print(random.randint(1, 45))\n",
    "\n",
    "print(random.choice(['사과', '바나나', '체리']))\n",
    "\n",
    "fruits = ['사과', '바나나', '체리']\n",
    "random.shuffle(fruits)\n",
    "print(fruits)\n",
    "\n",
    "print(random.sample([1, 2, 3, 4, 5], 2))\n"
   ]
  },
  {
   "cell_type": "code",
   "execution_count": 55,
   "metadata": {},
   "outputs": [
    {
     "name": "stdout",
     "output_type": "stream",
     "text": [
      "[1, 2, 3, 4, 5, 6, 7, 8, 9, 10, 11, 12, 13, 14]\n"
     ]
    }
   ],
   "source": [
    "number = [1,2,3,4,5,6,7,8,9,10,11,12,13,14]\n",
    "print(number)"
   ]
  },
  {
   "cell_type": "code",
   "execution_count": 69,
   "metadata": {},
   "outputs": [
    {
     "name": "stdout",
     "output_type": "stream",
     "text": [
      "[3, 7, 12, 30, 37, 41]\n"
     ]
    }
   ],
   "source": [
    "number = list(range(1,46))\n",
    "lotto = random.sample(number, 6)\n",
    "lotto.sort()\n",
    "print(lotto)\n"
   ]
  },
  {
   "cell_type": "markdown",
   "metadata": {},
   "source": [
    "## datetime\n",
    "\n",
    "| 사용법                       | 설명                                                         | 예제                                    |\n",
    "| ---------------------------- | ------------------------------------------------------------ | --------------------------------------- |\n",
    "| `datetime` 클래스            | 날짜와 시간 정보를 다루는 기본 클래스입니다.               | `from datetime import datetime`<br>`now = datetime.now()` |\n",
    "| `date` 클래스                | 날짜 정보만 다루는 클래스입니다.                             | `from datetime import date`<br>`today = date.today()` |\n",
    "| `time` 클래스                | 시간 정보만 다루는 클래스입니다.                             | `from datetime import time`<br>`current_time = time(14, 30)` |\n",
    "| `timedelta` 클래스           | 시간 간격을 나타내는 클래스로, 날짜 및 시간 연산에 사용됩니다. | `from datetime import timedelta`<br>`delta = timedelta(days=5)` |\n",
    "| 날짜 및 시간 포맷팅         | 날짜 및 시간을 문자열로 포맷팅하는 방법입니다.              | `now.strftime(\"%Y-%m-d %H:%M:%S\")` |\n",
    "| 날짜 및 시간 연산           | 날짜와 시간 간의 연산을 수행합니다.                         | `new_date = today + delta` |\n",
    "| 날짜 비교                    | 날짜를 비교하여 이전 또는 이후를 확인합니다.                | `is_future = today < new_date` |\n",
    "| 날짜 및 시간 파싱           | 문자열에서 날짜 및 시간 정보를 파싱합니다.                  | `parsed_time = datetime.strptime(\"2023-12-31 18:30:00\", \"%Y-%m-%d %H:%M:%S\")` |\n",
    "| 요일 및 주 정보 추출        | 날짜로부터 요일 및 주 정보를 추출합니다.                    | `day_of_week = today.weekday()`<br>`week_number = today.isocalendar()[1]` |\n",
    "| 타임존 처리                 | 날짜와 시간 정보에 타임존 정보를 추가 또는 변경합니다.     | `from pytz import timezone`<br>`tz = timezone('US/Pacific')`<br>`now = datetime.now(tz)` |\n"
   ]
  },
  {
   "cell_type": "markdown",
   "metadata": {},
   "source": [
    "## 외장 모듈\n",
    "\n",
    "| 모듈             | 설명                                                         |\n",
    "| ---------------- | ------------------------------------------------------------ |\n",
    "| `requests`       | HTTP 요청을 보내고 웹 데이터를 가져오는 데 사용됩니다.        |\n",
    "| `pandas`         | 데이터 분석 및 조작을 위한 고성능 데이터 구조와 도구를 제공합니다. |\n",
    "| `numpy`          | 과학 계산을 위한 다차원 배열 및 함수를 제공합니다.           |\n",
    "| `matplotlib`     | 데이터 시각화를 위한 라이브러리로 그래프 및 차트를 생성합니다. |\n",
    "| `sqlite3`        | 내장 데이터베이스로 SQLite와 상호 작용하는 데 사용됩니다.   |\n"
   ]
  },
  {
   "cell_type": "markdown",
   "metadata": {},
   "source": [
    "## 패키지\n",
    "\n",
    "| 특성                       | 모듈 (Module)                                  | 패키지 (Package)                                |\n",
    "| -------------------------- | -------------------------------------------- | ----------------------------------------------- |\n",
    "| **정의 및 사용**           | 단일 `.py` 파일에 포함된 파이썬 코드를 나타냅니다. | 여러 모듈 및 하위 패키지의 컬렉션을 나타냅니다.    |\n",
    "| **목적**                   | 코드를 논리적으로 구성하고 재사용 가능한 기능을 정의합니다. | 관련된 모듈과 패키지를 그룹화하고 구조를 생성합니다.    |\n",
    "| **예시**                   | 하나의 모듈: `math.py`                        | 패키지: `numpy` (하위 모듈 및 패키지의 집합)       |\n",
    "| **디렉터리 구조**           | 단일 파일 또는 모듈을 포함하는 디렉터리 내에서 관리됩니다. | 디렉터리 트리 구조 내에 여러 모듈 및 패키지를 가집니다. |\n",
    "| **사용법**                 | 모듈은 `import` 문을 사용하여 다른 모듈에서 가져옵니다. | 패키지는 하위 패키지 및 모듈을 `import` 문으로 가져옵니다. |\n",
    "| **파일 이름**              | 모듈의 파일 이름은 `.py` 확장자를 가집니다.     | 패키지의 디렉터리에는 `__init__.py` 파일이 있어야 합니다. |\n",
    "| **네임스페이스**           | 모듈은 자체의 네임스페이스를 갖고 있습니다.        | 패키지는 하위 패키지 및 모듈과의 중첩된 네임스페이스를 갖고 있습니다. |\n",
    "| **예시**                   | `import math`                                | `import numpy` 또는 `from numpy import array`     |\n"
   ]
  }
 ],
 "metadata": {
  "kernelspec": {
   "display_name": "Python 3",
   "language": "python",
   "name": "python3"
  },
  "language_info": {
   "codemirror_mode": {
    "name": "ipython",
    "version": 3
   },
   "file_extension": ".py",
   "mimetype": "text/x-python",
   "name": "python",
   "nbconvert_exporter": "python",
   "pygments_lexer": "ipython3",
   "version": "3.12.0"
  }
 },
 "nbformat": 4,
 "nbformat_minor": 2
}
